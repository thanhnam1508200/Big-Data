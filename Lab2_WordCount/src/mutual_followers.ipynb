{
 "cells": [
  {
   "cell_type": "code",
   "execution_count": null,
   "metadata": {},
   "outputs": [],
   "source": [
    "!sudo apt-get install python3-pip\n",
    "!pip3 install --upgrade pip\n",
    "!pip3 install --upgrade setuptools\n",
    "!pip3 install matplotlib\n",
    "!pip3 install networkx"
   ]
  },
  {
   "cell_type": "code",
   "execution_count": 2,
   "metadata": {},
   "outputs": [
    {
     "name": "stdout",
     "output_type": "stream",
     "text": [
      "['0', '50']\n"
     ]
    }
   ],
   "source": [
    "a=\"   0    50\"\n",
    "print(a.strip().split())\n"
   ]
  },
  {
   "cell_type": "code",
   "execution_count": null,
   "metadata": {},
   "outputs": [],
   "source": [
    "import networkx as nx\n",
    "\n",
    "edges = []\n",
    "\n",
    "f = open('../data/twitter_following.txt', 'r')\n",
    "\n",
    "for line in f.readlines():\n",
    "    id1, id2 = line.strip().split()\n",
    "    edges.append((id1,id2))\n",
    "\n",
    "# for e in edges:\n",
    "#     print(f'{e[0]}\\t{e[1]}')\n",
    "# create directed graph from edge pairs using NetworkX Library\n",
    "G = nx.DiGraph(edges)\n",
    "\n",
    "# visualize the graph\n",
    "nx.draw(G, with_labels=True, arrows=True, arrowstyle='-|>', arrowsize=15,\n",
    "        node_color='#3498DB', node_size=800, \n",
    "        edge_color='#FF5733')"
   ]
  },
  {
   "cell_type": "code",
   "execution_count": 6,
   "metadata": {},
   "outputs": [
    {
     "name": "stdout",
     "output_type": "stream",
     "text": [
      "Tài khoản 0 đang theo dõi 3 người\n",
      "Tài khoản 1 đang theo dõi 1 người\n",
      "Tài khoản 2 đang theo dõi 1 người\n",
      "Tài khoản 3 đang theo dõi 1 người\n",
      "Tài khoản 4 đang theo dõi 1 người\n",
      "Tài khoản 5 đang theo dõi 1 người\n",
      "Tài khoản 6 đang theo dõi 1 người\n",
      "Tài khoản 7 đang theo dõi 1 người\n",
      "Tài khoản 8 đang theo dõi 1 người\n",
      "Tài khoản 9 đang theo dõi 1 người\n",
      "Tài khoản 10 đang theo dõi 2 người\n",
      "Tài khoản 11 đang theo dõi 1 người\n",
      "Tài khoản 12 đang theo dõi 1 người\n",
      "Tài khoản 13 đang theo dõi 1 người\n",
      "Tài khoản 14 đang theo dõi 1 người\n",
      "Tài khoản 15 đang theo dõi 1 người\n",
      "Tài khoản 16 đang theo dõi 1 người\n",
      "Tài khoản 17 đang theo dõi 1 người\n",
      "Tài khoản 18 đang theo dõi 1 người\n"
     ]
    }
   ],
   "source": [
    "# Thống kê số lượng người theo dõi mỗi tài khoản\n",
    "\n",
    "# # dict để liệt kê top 5 người có nhiều người theo dõi nhất = {}\n",
    "# list_follower_count = {}\n",
    "count = 0\n",
    "current_edge = None\n",
    "for e in edges:\n",
    "    # Gặp edge mới, in ra số lượng người theo dõi\n",
    "    if current_edge and current_edge != e[0]:\n",
    "        # in ra\n",
    "        print(f'Tài khoản {current_edge} đang theo dõi {count} người')\n",
    "        # dictionary để xử lý sắp xếp\n",
    "        # list_follower_count[e[0]] = count\n",
    "        # Reset biến đếm, chuyển sang edge mới\n",
    "        current_edge = e[0]\n",
    "        count = 1\n",
    "    else:\n",
    "        current_edge = e[0]\n",
    "        count = count + 1\n",
    "# print('\\n Liệt kê 5 người có lượt theo dõi nhiều nhất')\n",
    "# # In ra 5 người có lượt theo dõi nhiều nhất\n",
    "# dict_sorted = dict(sorted(list_follower_count.items(),key=lambda x:x[1],reverse=True))\n",
    "# for item in list(dict_sorted)[0:5]:\n",
    "#     print(f'Tài khoản {item} đang theo dõi {dict_sorted[item]} người')\n"
   ]
  },
  {
   "cell_type": "code",
   "execution_count": 23,
   "metadata": {},
   "outputs": [],
   "source": [
    "#Liệt kê top 5 người có nhiều người theo dõi nhất\n",
    "current_edge = None\n",
    "array_temp = []\n",
    "for e in edges:\n",
    "    array_temp.append(e[1])\n",
    "\n"
   ]
  },
  {
   "cell_type": "code",
   "execution_count": 26,
   "metadata": {},
   "outputs": [
    {
     "name": "stdout",
     "output_type": "stream",
     "text": [
      "['1' '2' '3' '0' '0' '0' '0' '0' '0' '0' '0' '0' '0' '11' '1' '1' '1' '1'\n",
      " '1' '1' '1' '1' '1']\n"
     ]
    }
   ],
   "source": [
    "print(array_temp)"
   ]
  },
  {
   "cell_type": "code",
   "execution_count": 24,
   "metadata": {},
   "outputs": [],
   "source": [
    "import numpy as np\n",
    "array_temp = np.array(array_temp)"
   ]
  },
  {
   "cell_type": "code",
   "execution_count": 29,
   "metadata": {},
   "outputs": [
    {
     "name": "stdout",
     "output_type": "stream",
     "text": [
      "['1', '2', '3', '0', '11']\n"
     ]
    }
   ],
   "source": [
    "# Danh sách những người được theo dõi \n",
    "listNotDuplicate = list(dict.fromkeys(array_temp))\n",
    "print(listNotDuplicate)"
   ]
  },
  {
   "cell_type": "code",
   "execution_count": 35,
   "metadata": {},
   "outputs": [
    {
     "name": "stdout",
     "output_type": "stream",
     "text": [
      "Tài khoản 1 được 10 theo dõi\n",
      "Tài khoản 0 được 10 theo dõi\n",
      "Tài khoản 2 được 1 theo dõi\n",
      "Tài khoản 3 được 1 theo dõi\n",
      "Tài khoản 11 được 1 theo dõi\n"
     ]
    }
   ],
   "source": [
    "sortedArray = {}\n",
    "for item in listNotDuplicate:\n",
    "    count = np.count_nonzero(array_temp == item)\n",
    "    sortedArray[item] = count\n",
    "    # print(f'Tài khoản  {item} có {count} người theo dõi ')\n",
    "\n",
    "sortedArray = dict(sorted(sortedArray.items(),key=lambda x:x[1],reverse=True))\n",
    "for item in sortedArray:\n",
    "    print(f'Tài khoản {item} được {sortedArray[item]} theo dõi')"
   ]
  },
  {
   "cell_type": "code",
   "execution_count": null,
   "metadata": {},
   "outputs": [],
   "source": []
  },
  {
   "cell_type": "markdown",
   "metadata": {},
   "source": []
  },
  {
   "cell_type": "markdown",
   "metadata": {},
   "source": []
  },
  {
   "cell_type": "markdown",
   "metadata": {},
   "source": []
  },
  {
   "cell_type": "code",
   "execution_count": 16,
   "metadata": {},
   "outputs": [
    {
     "name": "stdout",
     "output_type": "stream",
     "text": [
      "<class 'str'>\n"
     ]
    }
   ],
   "source": [
    "print(type(e[1]))"
   ]
  },
  {
   "cell_type": "code",
   "execution_count": 4,
   "metadata": {},
   "outputs": [
    {
     "name": "stdout",
     "output_type": "stream",
     "text": [
      "Các cặp tài khoản theo dõi lẫn nhau:\n",
      "0 <-> 1\n",
      "0 <-> 2\n",
      "0 <-> 3\n"
     ]
    }
   ],
   "source": [
    "mutual_followers = []\n",
    "\n",
    "for u, v in G.edges():\n",
    "    if G.has_edge(u,v) and G.has_edge(v,u):\n",
    "        if (v, u) not in mutual_followers:\n",
    "            mutual_followers.append((u, v))\n",
    "\n",
    "# List mutual follower pairs:\n",
    "print('Các cặp tài khoản theo dõi lẫn nhau:')\n",
    "for u, v in mutual_followers:\n",
    "    print(u, '<->', v)\n"
   ]
  },
  {
   "cell_type": "code",
   "execution_count": null,
   "metadata": {},
   "outputs": [],
   "source": []
  }
 ],
 "metadata": {
  "kernelspec": {
   "display_name": "Python 3",
   "language": "python",
   "name": "python3"
  },
  "language_info": {
   "codemirror_mode": {
    "name": "ipython",
    "version": 3
   },
   "file_extension": ".py",
   "mimetype": "text/x-python",
   "name": "python",
   "nbconvert_exporter": "python",
   "pygments_lexer": "ipython3",
   "version": "3.9.7"
  }
 },
 "nbformat": 4,
 "nbformat_minor": 2
}
