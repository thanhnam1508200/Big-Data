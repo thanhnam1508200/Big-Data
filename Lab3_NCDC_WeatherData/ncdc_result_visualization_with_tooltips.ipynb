{
 "cells": [
  {
   "cell_type": "code",
   "execution_count": 1,
   "id": "athletic-mongolia",
   "metadata": {
    "scrolled": true
   },
   "outputs": [
    {
     "name": "stderr",
     "output_type": "stream",
     "text": [
      "/home/hdoop/miniconda3/lib/python3.9/site-packages/IPython/core/interactiveshell.py:3369: FutureWarning: In a future version of pandas all arguments of read_csv except for the argument 'filepath_or_buffer' will be keyword-only.\n",
      "  exec(code_obj, self.user_global_ns, self.user_ns)\n"
     ]
    },
    {
     "ename": "ValueError",
     "evalue": "Specified a sep and a delimiter; you can only specify one.",
     "output_type": "error",
     "traceback": [
      "\u001b[0;31m---------------------------------------------------------------------------\u001b[0m",
      "\u001b[0;31mValueError\u001b[0m                                Traceback (most recent call last)",
      "\u001b[1;32m/mnt/d/Code/Big-Data/Lab3_NCDC_WeatherData/ncdc_result_visualization_with_tooltips.ipynb Cell 1'\u001b[0m in \u001b[0;36m<cell line: 8>\u001b[0;34m()\u001b[0m\n\u001b[1;32m      <a href='vscode-notebook-cell://wsl%2Bubuntu18_lamminhthien/mnt/d/Code/Big-Data/Lab3_NCDC_WeatherData/ncdc_result_visualization_with_tooltips.ipynb#ch0000000vscode-remote?line=3'>4</a>\u001b[0m \u001b[39mimport\u001b[39;00m \u001b[39mmpld3\u001b[39;00m\n\u001b[1;32m      <a href='vscode-notebook-cell://wsl%2Bubuntu18_lamminhthien/mnt/d/Code/Big-Data/Lab3_NCDC_WeatherData/ncdc_result_visualization_with_tooltips.ipynb#ch0000000vscode-remote?line=5'>6</a>\u001b[0m \u001b[39mimport\u001b[39;00m \u001b[39mreverse_geocoder\u001b[39;00m \u001b[39mas\u001b[39;00m \u001b[39mrg\u001b[39;00m\n\u001b[0;32m----> <a href='vscode-notebook-cell://wsl%2Bubuntu18_lamminhthien/mnt/d/Code/Big-Data/Lab3_NCDC_WeatherData/ncdc_result_visualization_with_tooltips.ipynb#ch0000000vscode-remote?line=7'>8</a>\u001b[0m result \u001b[39m=\u001b[39m pd\u001b[39m.\u001b[39;49mread_csv(\u001b[39m'\u001b[39;49m\u001b[39moutput/part-00000-2\u001b[39;49m\u001b[39m'\u001b[39;49m,\u001b[39m'\u001b[39;49m\u001b[39mr\u001b[39;49m\u001b[39m'\u001b[39;49m,\n\u001b[1;32m      <a href='vscode-notebook-cell://wsl%2Bubuntu18_lamminhthien/mnt/d/Code/Big-Data/Lab3_NCDC_WeatherData/ncdc_result_visualization_with_tooltips.ipynb#ch0000000vscode-remote?line=8'>9</a>\u001b[0m         header\u001b[39m=\u001b[39;49m\u001b[39mNone\u001b[39;49;00m, delimiter\u001b[39m=\u001b[39;49m\u001b[39m'\u001b[39;49m\u001b[39m\\t\u001b[39;49;00m\u001b[39m'\u001b[39;49m,\n\u001b[1;32m     <a href='vscode-notebook-cell://wsl%2Bubuntu18_lamminhthien/mnt/d/Code/Big-Data/Lab3_NCDC_WeatherData/ncdc_result_visualization_with_tooltips.ipynb#ch0000000vscode-remote?line=9'>10</a>\u001b[0m         names\u001b[39m=\u001b[39;49m[\u001b[39m'\u001b[39;49m\u001b[39myear\u001b[39;49m\u001b[39m'\u001b[39;49m,\u001b[39m'\u001b[39;49m\u001b[39mmax_temp\u001b[39;49m\u001b[39m'\u001b[39;49m, \u001b[39m'\u001b[39;49m\u001b[39mmin_temp\u001b[39;49m\u001b[39m'\u001b[39;49m, \u001b[39m'\u001b[39;49m\u001b[39mavg_temp\u001b[39;49m\u001b[39m'\u001b[39;49m, \u001b[39m'\u001b[39;49m\u001b[39mmax_lat\u001b[39;49m\u001b[39m'\u001b[39;49m, \u001b[39m'\u001b[39;49m\u001b[39mmax_lon\u001b[39;49m\u001b[39m'\u001b[39;49m, \u001b[39m'\u001b[39;49m\u001b[39mmin_lat\u001b[39;49m\u001b[39m'\u001b[39;49m, \u001b[39m'\u001b[39;49m\u001b[39mmin_lon\u001b[39;49m\u001b[39m'\u001b[39;49m])\n\u001b[1;32m     <a href='vscode-notebook-cell://wsl%2Bubuntu18_lamminhthien/mnt/d/Code/Big-Data/Lab3_NCDC_WeatherData/ncdc_result_visualization_with_tooltips.ipynb#ch0000000vscode-remote?line=11'>12</a>\u001b[0m max_geocodes \u001b[39m=\u001b[39m [(\u001b[39mint\u001b[39m(result[\u001b[39m'\u001b[39m\u001b[39mmax_lat\u001b[39m\u001b[39m'\u001b[39m][i])\u001b[39m/\u001b[39m\u001b[39m1000\u001b[39m, \u001b[39mint\u001b[39m(result[\u001b[39m'\u001b[39m\u001b[39mmax_lon\u001b[39m\u001b[39m'\u001b[39m][i])\u001b[39m/\u001b[39m\u001b[39m1000\u001b[39m) \u001b[39mfor\u001b[39;00m i \u001b[39min\u001b[39;00m \u001b[39mrange\u001b[39m(\u001b[39mlen\u001b[39m(result))] \n\u001b[1;32m     <a href='vscode-notebook-cell://wsl%2Bubuntu18_lamminhthien/mnt/d/Code/Big-Data/Lab3_NCDC_WeatherData/ncdc_result_visualization_with_tooltips.ipynb#ch0000000vscode-remote?line=12'>13</a>\u001b[0m min_geocodes \u001b[39m=\u001b[39m [(\u001b[39mint\u001b[39m(result[\u001b[39m'\u001b[39m\u001b[39mmin_lat\u001b[39m\u001b[39m'\u001b[39m][i])\u001b[39m/\u001b[39m\u001b[39m1000\u001b[39m, \u001b[39mint\u001b[39m(result[\u001b[39m'\u001b[39m\u001b[39mmin_lon\u001b[39m\u001b[39m'\u001b[39m][i])\u001b[39m/\u001b[39m\u001b[39m1000\u001b[39m) \u001b[39mfor\u001b[39;00m i \u001b[39min\u001b[39;00m \u001b[39mrange\u001b[39m(\u001b[39mlen\u001b[39m(result))] \n",
      "File \u001b[0;32m/home/hdoop/miniconda3/lib/python3.9/site-packages/pandas/util/_decorators.py:311\u001b[0m, in \u001b[0;36mdeprecate_nonkeyword_arguments.<locals>.decorate.<locals>.wrapper\u001b[0;34m(*args, **kwargs)\u001b[0m\n\u001b[1;32m    <a href='file:///home/hdoop/miniconda3/lib/python3.9/site-packages/pandas/util/_decorators.py?line=304'>305</a>\u001b[0m \u001b[39mif\u001b[39;00m \u001b[39mlen\u001b[39m(args) \u001b[39m>\u001b[39m num_allow_args:\n\u001b[1;32m    <a href='file:///home/hdoop/miniconda3/lib/python3.9/site-packages/pandas/util/_decorators.py?line=305'>306</a>\u001b[0m     warnings\u001b[39m.\u001b[39mwarn(\n\u001b[1;32m    <a href='file:///home/hdoop/miniconda3/lib/python3.9/site-packages/pandas/util/_decorators.py?line=306'>307</a>\u001b[0m         msg\u001b[39m.\u001b[39mformat(arguments\u001b[39m=\u001b[39marguments),\n\u001b[1;32m    <a href='file:///home/hdoop/miniconda3/lib/python3.9/site-packages/pandas/util/_decorators.py?line=307'>308</a>\u001b[0m         \u001b[39mFutureWarning\u001b[39;00m,\n\u001b[1;32m    <a href='file:///home/hdoop/miniconda3/lib/python3.9/site-packages/pandas/util/_decorators.py?line=308'>309</a>\u001b[0m         stacklevel\u001b[39m=\u001b[39mstacklevel,\n\u001b[1;32m    <a href='file:///home/hdoop/miniconda3/lib/python3.9/site-packages/pandas/util/_decorators.py?line=309'>310</a>\u001b[0m     )\n\u001b[0;32m--> <a href='file:///home/hdoop/miniconda3/lib/python3.9/site-packages/pandas/util/_decorators.py?line=310'>311</a>\u001b[0m \u001b[39mreturn\u001b[39;00m func(\u001b[39m*\u001b[39;49margs, \u001b[39m*\u001b[39;49m\u001b[39m*\u001b[39;49mkwargs)\n",
      "File \u001b[0;32m/home/hdoop/miniconda3/lib/python3.9/site-packages/pandas/io/parsers/readers.py:665\u001b[0m, in \u001b[0;36mread_csv\u001b[0;34m(filepath_or_buffer, sep, delimiter, header, names, index_col, usecols, squeeze, prefix, mangle_dupe_cols, dtype, engine, converters, true_values, false_values, skipinitialspace, skiprows, skipfooter, nrows, na_values, keep_default_na, na_filter, verbose, skip_blank_lines, parse_dates, infer_datetime_format, keep_date_col, date_parser, dayfirst, cache_dates, iterator, chunksize, compression, thousands, decimal, lineterminator, quotechar, quoting, doublequote, escapechar, comment, encoding, encoding_errors, dialect, error_bad_lines, warn_bad_lines, on_bad_lines, delim_whitespace, low_memory, memory_map, float_precision, storage_options)\u001b[0m\n\u001b[1;32m    <a href='file:///home/hdoop/miniconda3/lib/python3.9/site-packages/pandas/io/parsers/readers.py?line=661'>662</a>\u001b[0m \u001b[39mdel\u001b[39;00m kwds[\u001b[39m\"\u001b[39m\u001b[39mfilepath_or_buffer\u001b[39m\u001b[39m\"\u001b[39m]\n\u001b[1;32m    <a href='file:///home/hdoop/miniconda3/lib/python3.9/site-packages/pandas/io/parsers/readers.py?line=662'>663</a>\u001b[0m \u001b[39mdel\u001b[39;00m kwds[\u001b[39m\"\u001b[39m\u001b[39msep\u001b[39m\u001b[39m\"\u001b[39m]\n\u001b[0;32m--> <a href='file:///home/hdoop/miniconda3/lib/python3.9/site-packages/pandas/io/parsers/readers.py?line=664'>665</a>\u001b[0m kwds_defaults \u001b[39m=\u001b[39m _refine_defaults_read(\n\u001b[1;32m    <a href='file:///home/hdoop/miniconda3/lib/python3.9/site-packages/pandas/io/parsers/readers.py?line=665'>666</a>\u001b[0m     dialect,\n\u001b[1;32m    <a href='file:///home/hdoop/miniconda3/lib/python3.9/site-packages/pandas/io/parsers/readers.py?line=666'>667</a>\u001b[0m     delimiter,\n\u001b[1;32m    <a href='file:///home/hdoop/miniconda3/lib/python3.9/site-packages/pandas/io/parsers/readers.py?line=667'>668</a>\u001b[0m     delim_whitespace,\n\u001b[1;32m    <a href='file:///home/hdoop/miniconda3/lib/python3.9/site-packages/pandas/io/parsers/readers.py?line=668'>669</a>\u001b[0m     engine,\n\u001b[1;32m    <a href='file:///home/hdoop/miniconda3/lib/python3.9/site-packages/pandas/io/parsers/readers.py?line=669'>670</a>\u001b[0m     sep,\n\u001b[1;32m    <a href='file:///home/hdoop/miniconda3/lib/python3.9/site-packages/pandas/io/parsers/readers.py?line=670'>671</a>\u001b[0m     error_bad_lines,\n\u001b[1;32m    <a href='file:///home/hdoop/miniconda3/lib/python3.9/site-packages/pandas/io/parsers/readers.py?line=671'>672</a>\u001b[0m     warn_bad_lines,\n\u001b[1;32m    <a href='file:///home/hdoop/miniconda3/lib/python3.9/site-packages/pandas/io/parsers/readers.py?line=672'>673</a>\u001b[0m     on_bad_lines,\n\u001b[1;32m    <a href='file:///home/hdoop/miniconda3/lib/python3.9/site-packages/pandas/io/parsers/readers.py?line=673'>674</a>\u001b[0m     names,\n\u001b[1;32m    <a href='file:///home/hdoop/miniconda3/lib/python3.9/site-packages/pandas/io/parsers/readers.py?line=674'>675</a>\u001b[0m     prefix,\n\u001b[1;32m    <a href='file:///home/hdoop/miniconda3/lib/python3.9/site-packages/pandas/io/parsers/readers.py?line=675'>676</a>\u001b[0m     defaults\u001b[39m=\u001b[39;49m{\u001b[39m\"\u001b[39;49m\u001b[39mdelimiter\u001b[39;49m\u001b[39m\"\u001b[39;49m: \u001b[39m\"\u001b[39;49m\u001b[39m,\u001b[39;49m\u001b[39m\"\u001b[39;49m},\n\u001b[1;32m    <a href='file:///home/hdoop/miniconda3/lib/python3.9/site-packages/pandas/io/parsers/readers.py?line=676'>677</a>\u001b[0m )\n\u001b[1;32m    <a href='file:///home/hdoop/miniconda3/lib/python3.9/site-packages/pandas/io/parsers/readers.py?line=677'>678</a>\u001b[0m kwds\u001b[39m.\u001b[39mupdate(kwds_defaults)\n\u001b[1;32m    <a href='file:///home/hdoop/miniconda3/lib/python3.9/site-packages/pandas/io/parsers/readers.py?line=679'>680</a>\u001b[0m \u001b[39mreturn\u001b[39;00m _read(filepath_or_buffer, kwds)\n",
      "File \u001b[0;32m/home/hdoop/miniconda3/lib/python3.9/site-packages/pandas/io/parsers/readers.py:1509\u001b[0m, in \u001b[0;36m_refine_defaults_read\u001b[0;34m(dialect, delimiter, delim_whitespace, engine, sep, error_bad_lines, warn_bad_lines, on_bad_lines, names, prefix, defaults)\u001b[0m\n\u001b[1;32m   <a href='file:///home/hdoop/miniconda3/lib/python3.9/site-packages/pandas/io/parsers/readers.py?line=1503'>1504</a>\u001b[0m     kwds[\u001b[39m\"\u001b[39m\u001b[39msep_override\u001b[39m\u001b[39m\"\u001b[39m] \u001b[39m=\u001b[39m delimiter \u001b[39mis\u001b[39;00m \u001b[39mNone\u001b[39;00m \u001b[39mand\u001b[39;00m (\n\u001b[1;32m   <a href='file:///home/hdoop/miniconda3/lib/python3.9/site-packages/pandas/io/parsers/readers.py?line=1504'>1505</a>\u001b[0m         sep \u001b[39mis\u001b[39;00m lib\u001b[39m.\u001b[39mno_default \u001b[39mor\u001b[39;00m sep \u001b[39m==\u001b[39m delim_default\n\u001b[1;32m   <a href='file:///home/hdoop/miniconda3/lib/python3.9/site-packages/pandas/io/parsers/readers.py?line=1505'>1506</a>\u001b[0m     )\n\u001b[1;32m   <a href='file:///home/hdoop/miniconda3/lib/python3.9/site-packages/pandas/io/parsers/readers.py?line=1507'>1508</a>\u001b[0m \u001b[39mif\u001b[39;00m delimiter \u001b[39mand\u001b[39;00m (sep \u001b[39mis\u001b[39;00m \u001b[39mnot\u001b[39;00m lib\u001b[39m.\u001b[39mno_default):\n\u001b[0;32m-> <a href='file:///home/hdoop/miniconda3/lib/python3.9/site-packages/pandas/io/parsers/readers.py?line=1508'>1509</a>\u001b[0m     \u001b[39mraise\u001b[39;00m \u001b[39mValueError\u001b[39;00m(\u001b[39m\"\u001b[39m\u001b[39mSpecified a sep and a delimiter; you can only specify one.\u001b[39m\u001b[39m\"\u001b[39m)\n\u001b[1;32m   <a href='file:///home/hdoop/miniconda3/lib/python3.9/site-packages/pandas/io/parsers/readers.py?line=1510'>1511</a>\u001b[0m \u001b[39mif\u001b[39;00m (\n\u001b[1;32m   <a href='file:///home/hdoop/miniconda3/lib/python3.9/site-packages/pandas/io/parsers/readers.py?line=1511'>1512</a>\u001b[0m     names \u001b[39mis\u001b[39;00m \u001b[39mnot\u001b[39;00m \u001b[39mNone\u001b[39;00m\n\u001b[1;32m   <a href='file:///home/hdoop/miniconda3/lib/python3.9/site-packages/pandas/io/parsers/readers.py?line=1512'>1513</a>\u001b[0m     \u001b[39mand\u001b[39;00m names \u001b[39mis\u001b[39;00m \u001b[39mnot\u001b[39;00m lib\u001b[39m.\u001b[39mno_default\n\u001b[1;32m   <a href='file:///home/hdoop/miniconda3/lib/python3.9/site-packages/pandas/io/parsers/readers.py?line=1513'>1514</a>\u001b[0m     \u001b[39mand\u001b[39;00m prefix \u001b[39mis\u001b[39;00m \u001b[39mnot\u001b[39;00m \u001b[39mNone\u001b[39;00m\n\u001b[1;32m   <a href='file:///home/hdoop/miniconda3/lib/python3.9/site-packages/pandas/io/parsers/readers.py?line=1514'>1515</a>\u001b[0m     \u001b[39mand\u001b[39;00m prefix \u001b[39mis\u001b[39;00m \u001b[39mnot\u001b[39;00m lib\u001b[39m.\u001b[39mno_default\n\u001b[1;32m   <a href='file:///home/hdoop/miniconda3/lib/python3.9/site-packages/pandas/io/parsers/readers.py?line=1515'>1516</a>\u001b[0m ):\n\u001b[1;32m   <a href='file:///home/hdoop/miniconda3/lib/python3.9/site-packages/pandas/io/parsers/readers.py?line=1516'>1517</a>\u001b[0m     \u001b[39mraise\u001b[39;00m \u001b[39mValueError\u001b[39;00m(\u001b[39m\"\u001b[39m\u001b[39mSpecified named and prefix; you can only specify one.\u001b[39m\u001b[39m\"\u001b[39m)\n",
      "\u001b[0;31mValueError\u001b[0m: Specified a sep and a delimiter; you can only specify one."
     ]
    }
   ],
   "source": [
    "%matplotlib inline\n",
    "import matplotlib.pyplot as plt\n",
    "import pandas as pd\n",
    "import mpld3\n",
    "\n",
    "import reverse_geocoder as rg\n",
    "\n",
    "result = pd.read_csv('output/part-00000-2','r',\n",
    "        header=None, delimiter='\\t',\n",
    "        names=['year','max_temp', 'min_temp', 'avg_temp', 'max_lat', 'max_lon', 'min_lat', 'min_lon'])\n",
    "\n",
    "max_geocodes = [(int(result['max_lat'][i])/1000, int(result['max_lon'][i])/1000) for i in range(len(result))] \n",
    "min_geocodes = [(int(result['min_lat'][i])/1000, int(result['min_lon'][i])/1000) for i in range(len(result))] \n",
    "\n",
    "# Look up location given geocode\n",
    "def Geocode2Location(coordinates):\n",
    "    location = rg.search(coordinates)\n",
    "    return location\n",
    "\n",
    "max_venues = [Geocode2Location(max_geocodes[i])[0] for i in range(len(result))]\n",
    "max_labels = [max_venues[i]['name'] + ',' \\\n",
    "                 + max_venues[i]['cc'] + ',' + str(result['year'].values[i]) + ' (' \\\n",
    "                 + str(result['max_temp'].values[i]/10) + ')' for i in range(len(result))]\n",
    "\n",
    "min_venues = [Geocode2Location(min_geocodes[i])[0] for i in range(len(result))]\n",
    "min_labels = [min_venues[i]['name'] + ',' \\\n",
    "                 + min_venues[i]['cc'] + ',' + str(result['year'].values[i]) + ' (' \\\n",
    "                 + str(result['min_temp'].values[i]/10) + ')' for i in range(len(result))]\n",
    "\n",
    "# plotting\n",
    "mpld3.enable_notebook()\n",
    "\n",
    "fig, ax = plt.subplots(subplot_kw=dict(facecolor='#EEEEEE'), figsize=(8,6))\n",
    "\n",
    "scatter1_max = ax.scatter(result['year'], \n",
    "                     result['max_temp'] /10,\n",
    "                     cmap=plt.cm.jet,s=60, color='#FF5733')\n",
    "scatter2_min = ax.scatter(result['year'], \n",
    "                     result['min_temp'] /10,\n",
    "                     cmap=plt.cm.jet, s=60, color='#17BC08'\n",
    "                     )\n",
    "scatter3_avg = ax.scatter(result['year'], \n",
    "                     result['avg_temp'] /100,\n",
    "                     cmap=plt.cm.jet, s=60, color='#2288B3'\n",
    "                     )\n",
    "\n",
    "ax.grid(color='white', linestyle='--', alpha=0.2)\n",
    "plt.plot(result['year'], result['max_temp'] /10,  color='#FF5733', label='Cao nhất')\n",
    "plt.plot(result['year'], result['min_temp'] /10,  color='#17BC08', label='Thấp nhất',)\n",
    "plt.plot(result['year'], result['avg_temp'] /100, color='#2288B3', label='Trung bình')\n",
    "\n",
    "plt.legend(loc='upper left')\n",
    "plt.ylim(-60,70)\n",
    "ax.xaxis.set_major_formatter('')\n",
    "\n",
    "max_temp_tooltips = mpld3.plugins.PointLabelTooltip(scatter1_max, labels=max_labels)\n",
    "min_temp_tooltips = mpld3.plugins.PointLabelTooltip(scatter2_min, labels=min_labels)\n",
    "\n",
    "mpld3.plugins.connect(fig, max_temp_tooltips)\n",
    "mpld3.plugins.connect(fig, min_temp_tooltips)\n",
    "\n",
    "# Run this script locally to see the result\n",
    "mpld3.display()"
   ]
  }
 ],
 "metadata": {
  "kernelspec": {
   "display_name": "Python 3",
   "language": "python",
   "name": "python3"
  },
  "language_info": {
   "codemirror_mode": {
    "name": "ipython",
    "version": 3
   },
   "file_extension": ".py",
   "mimetype": "text/x-python",
   "name": "python",
   "nbconvert_exporter": "python",
   "pygments_lexer": "ipython3",
   "version": "3.9.7"
  }
 },
 "nbformat": 4,
 "nbformat_minor": 5
}
