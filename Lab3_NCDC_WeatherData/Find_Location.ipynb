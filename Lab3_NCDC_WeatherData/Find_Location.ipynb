{
 "cells": [
  {
   "cell_type": "code",
   "execution_count": 1,
   "metadata": {},
   "outputs": [
    {
     "name": "stdout",
     "output_type": "stream",
     "text": [
      "Requirement already satisfied: reverse_geocoder in /home/hdoop/miniconda3/lib/python3.9/site-packages (1.5.1)\n",
      "Requirement already satisfied: scipy>=0.17.1 in /home/hdoop/miniconda3/lib/python3.9/site-packages (from reverse_geocoder) (1.8.0)\n",
      "Requirement already satisfied: numpy>=1.11.0 in /home/hdoop/miniconda3/lib/python3.9/site-packages (from reverse_geocoder) (1.22.3)\n",
      "\u001b[33mWARNING: Running pip as the 'root' user can result in broken permissions and conflicting behaviour with the system package manager. It is recommended to use a virtual environment instead: https://pip.pypa.io/warnings/venv\u001b[0m\n"
     ]
    }
   ],
   "source": [
    "!pip install reverse_geocoder"
   ]
  },
  {
   "cell_type": "code",
   "execution_count": 1,
   "metadata": {},
   "outputs": [],
   "source": [
    "import reverse_geocoder as rg\n",
    "import pandas as pd"
   ]
  },
  {
   "cell_type": "code",
   "execution_count": 2,
   "metadata": {},
   "outputs": [],
   "source": [
    "# Đọc dữ liệu kết quả\n",
    "max_temps = pd.read_csv('data/data_has_max-temp_lat,lon,date,time', delimiter='\\t', header=None,\n",
    " names=['year', 'max_temp','latitude','longtitude','date','time'])\n",
    "    "
   ]
  },
  {
   "cell_type": "code",
   "execution_count": 3,
   "metadata": {},
   "outputs": [
    {
     "data": {
      "text/html": [
       "<div>\n",
       "<style scoped>\n",
       "    .dataframe tbody tr th:only-of-type {\n",
       "        vertical-align: middle;\n",
       "    }\n",
       "\n",
       "    .dataframe tbody tr th {\n",
       "        vertical-align: top;\n",
       "    }\n",
       "\n",
       "    .dataframe thead th {\n",
       "        text-align: right;\n",
       "    }\n",
       "</style>\n",
       "<table border=\"1\" class=\"dataframe\">\n",
       "  <thead>\n",
       "    <tr style=\"text-align: right;\">\n",
       "      <th></th>\n",
       "      <th>year</th>\n",
       "      <th>max_temp</th>\n",
       "      <th>latitude</th>\n",
       "      <th>longtitude</th>\n",
       "      <th>date</th>\n",
       "      <th>time</th>\n",
       "    </tr>\n",
       "  </thead>\n",
       "  <tbody>\n",
       "    <tr>\n",
       "      <th>0</th>\n",
       "      <td>1901</td>\n",
       "      <td>317</td>\n",
       "      <td>64.333</td>\n",
       "      <td>23.450</td>\n",
       "      <td>19020101</td>\n",
       "      <td>600</td>\n",
       "    </tr>\n",
       "    <tr>\n",
       "      <th>1</th>\n",
       "      <td>1902</td>\n",
       "      <td>244</td>\n",
       "      <td>61.183</td>\n",
       "      <td>22.617</td>\n",
       "      <td>19030101</td>\n",
       "      <td>2000</td>\n",
       "    </tr>\n",
       "    <tr>\n",
       "      <th>2</th>\n",
       "      <td>1903</td>\n",
       "      <td>289</td>\n",
       "      <td>61.483</td>\n",
       "      <td>21.350</td>\n",
       "      <td>19040101</td>\n",
       "      <td>1300</td>\n",
       "    </tr>\n",
       "    <tr>\n",
       "      <th>3</th>\n",
       "      <td>1904</td>\n",
       "      <td>256</td>\n",
       "      <td>64.333</td>\n",
       "      <td>23.450</td>\n",
       "      <td>19050101</td>\n",
       "      <td>600</td>\n",
       "    </tr>\n",
       "    <tr>\n",
       "      <th>4</th>\n",
       "      <td>1905</td>\n",
       "      <td>283</td>\n",
       "      <td>61.500</td>\n",
       "      <td>23.767</td>\n",
       "      <td>19060101</td>\n",
       "      <td>2000</td>\n",
       "    </tr>\n",
       "  </tbody>\n",
       "</table>\n",
       "</div>"
      ],
      "text/plain": [
       "   year  max_temp  latitude  longtitude      date  time\n",
       "0  1901       317    64.333      23.450  19020101   600\n",
       "1  1902       244    61.183      22.617  19030101  2000\n",
       "2  1903       289    61.483      21.350  19040101  1300\n",
       "3  1904       256    64.333      23.450  19050101   600\n",
       "4  1905       283    61.500      23.767  19060101  2000"
      ]
     },
     "execution_count": 3,
     "metadata": {},
     "output_type": "execute_result"
    }
   ],
   "source": [
    "max_temps.head()"
   ]
  },
  {
   "cell_type": "code",
   "execution_count": 4,
   "metadata": {},
   "outputs": [
    {
     "data": {
      "text/plain": [
       "61.183"
      ]
     },
     "execution_count": 4,
     "metadata": {},
     "output_type": "execute_result"
    }
   ],
   "source": [
    "max_temps.latitude[1]"
   ]
  },
  {
   "cell_type": "code",
   "execution_count": 13,
   "metadata": {},
   "outputs": [
    {
     "name": "stdout",
     "output_type": "stream",
     "text": [
      "Năm 1901 --Nhiệt độ cao nhất 317 -- Vị trí Lohtaja \n",
      "Năm 1902 --Nhiệt độ cao nhất 244 -- Vị trí Huittinen \n",
      "Năm 1903 --Nhiệt độ cao nhất 289 -- Vị trí Luvia \n",
      "Năm 1904 --Nhiệt độ cao nhất 256 -- Vị trí Lohtaja \n",
      "Năm 1905 --Nhiệt độ cao nhất 283 -- Vị trí Tampere \n",
      "Năm 1906 --Nhiệt độ cao nhất 294 -- Vị trí Tampere \n",
      "Năm 1907 --Nhiệt độ cao nhất 283 -- Vị trí Oulu \n",
      "Năm 1908 --Nhiệt độ cao nhất 289 -- Vị trí Kuusamo \n",
      "Năm 1909 --Nhiệt độ cao nhất 278 -- Vị trí Oulu \n",
      "Năm 1910 --Nhiệt độ cao nhất 294 -- Vị trí Kuopio \n",
      "Năm 1911 --Nhiệt độ cao nhất 306 -- Vị trí Oulu \n",
      "Năm 1912 --Nhiệt độ cao nhất 322 -- Vị trí Tampere \n",
      "Năm 1913 --Nhiệt độ cao nhất 300 -- Vị trí Inari \n",
      "Năm 1914 --Nhiệt độ cao nhất 333 -- Vị trí Vyborg \n",
      "Năm 1915 --Nhiệt độ cao nhất 294 -- Vị trí Kajaani \n",
      "Năm 1916 --Nhiệt độ cao nhất 278 -- Vị trí Lammi \n",
      "Năm 1917 --Nhiệt độ cao nhất 317 -- Vị trí Mariehamn \n",
      "Năm 1918 --Nhiệt độ cao nhất 322 -- Vị trí Vaasa \n",
      "Năm 1919 --Nhiệt độ cao nhất 378 -- Vị trí Sodankylae \n",
      "Năm 1920 --Nhiệt độ cao nhất 294 -- Vị trí Vaasa \n",
      "Năm 1921 --Nhiệt độ cao nhất 283 -- Vị trí Sodankylae \n",
      "Năm 1922 --Nhiệt độ cao nhất 278 -- Vị trí Jyvaeskylae \n",
      "Năm 1923 --Nhiệt độ cao nhất 294 -- Vị trí Lammi \n",
      "Năm 1924 --Nhiệt độ cao nhất 294 -- Vị trí Jyvaeskylae \n",
      "Năm 1925 --Nhiệt độ cao nhất 317 -- Vị trí Isles of Scilly \n",
      "Năm 1926 --Nhiệt độ cao nhất 489 -- Vị trí Aberdeen \n"
     ]
    },
    {
     "name": "stderr",
     "output_type": "stream",
     "text": [
      "Exception ignored in: <function _releaseLock at 0x7f1204ce9790>\n",
      "Traceback (most recent call last):\n",
      "  File \"/home/hdoop/miniconda3/lib/python3.9/logging/__init__.py\", line 227, in _releaseLock\n",
      "    def _releaseLock():\n",
      "KeyboardInterrupt: \n"
     ]
    },
    {
     "name": "stdout",
     "output_type": "stream",
     "text": [
      "Năm 1927 --Nhiệt độ cao nhất 489 -- Vị trí Langenhagen \n",
      "Năm 1928 --Nhiệt độ cao nhất 378 -- Vị trí Schiermonnikoog \n",
      "Năm 1929 --Nhiệt độ cao nhất 328 -- Vị trí Dale \n",
      "Năm 1930 --Nhiệt độ cao nhất 400 -- Vị trí Hamble \n"
     ]
    }
   ],
   "source": [
    "def Geocode2Location(coordinates):\n",
    "    location = rg.search(coordinates)\n",
    "    return location\n",
    "count = 0\n",
    "for i in range(0,len(max_temps)):\n",
    "    geoCode = (max_temps.latitude[i], max_temps.longtitude[i])\n",
    "    result = Geocode2Location(geoCode)[0]\n",
    "    print(f\"Năm {max_temps.year[i]} --Nhiệt độ cao nhất {max_temps.max_temp[i]} -- Vị trí {result['name']} \")"
   ]
  }
 ],
 "metadata": {
  "interpreter": {
   "hash": "c156cbd56f2befb501b04e4bcafbb3ceb498087e79117ebbae5589b514d9d978"
  },
  "kernelspec": {
   "display_name": "Python 3.9.7 ('miniconda3')",
   "language": "python",
   "name": "python3"
  },
  "language_info": {
   "codemirror_mode": {
    "name": "ipython",
    "version": 3
   },
   "file_extension": ".py",
   "mimetype": "text/x-python",
   "name": "python",
   "nbconvert_exporter": "python",
   "pygments_lexer": "ipython3",
   "version": "3.9.7"
  },
  "orig_nbformat": 4
 },
 "nbformat": 4,
 "nbformat_minor": 2
}
