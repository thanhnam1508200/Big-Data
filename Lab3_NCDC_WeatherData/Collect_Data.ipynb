{
 "cells": [
  {
   "cell_type": "code",
   "execution_count": null,
   "metadata": {
    "id": "wSIwME5SEnsc"
   },
   "outputs": [],
   "source": [
    "# This script is to crawl the NCDC public data for Big Data Labs\n",
    "# Coded by Hung Nguyen @ Nha Trang University\n",
    "\n",
    "import os\n",
    "\n",
    "# Set duration to collect data\n",
    "start_year = 1998\n",
    "end_year = 2000\n",
    "\n",
    "# Path to NCDC public data folder\n",
    "ncdc_port = 'ftp://ftp.ncdc.noaa.gov/pub/data/noaa/'\n",
    "# Local folder for storing downloaded data\n",
    "saving_folder = 'ncdc'\n",
    "\n",
    "if not os.path.exists(saving_folder):\n",
    "    os.mkdir(saving_folder)\n",
    "for year in range(start_year, end_year+1):\n",
    "    saving_subfolder = os.path.join(saving_folder,str(year))\n",
    "    if not os.path.exists(saving_subfolder):\n",
    "        os.mkdir(saving_subfolder)\n",
    "    cmd = '/usr/bin/wget -nc -P ' + saving_subfolder + ' ' + ncdc_port + str(year) + '/*'\n",
    "    os.system(cmd)                 "
   ]
  },
  {
   "cell_type": "code",
   "execution_count": 9,
   "metadata": {},
   "outputs": [
    {
     "ename": "TypeError",
     "evalue": "join() takes exactly one argument (2 given)",
     "output_type": "error",
     "traceback": [
      "\u001b[0;31m---------------------------------------------------------------------------\u001b[0m",
      "\u001b[0;31mTypeError\u001b[0m                                 Traceback (most recent call last)",
      "\u001b[0;32m<ipython-input-9-f1fc021fa5a3>\u001b[0m in \u001b[0;36m<module>\u001b[0;34m\u001b[0m\n\u001b[1;32m      1\u001b[0m \u001b[0;32mimport\u001b[0m \u001b[0mos\u001b[0m\u001b[0;34m\u001b[0m\u001b[0;34m\u001b[0m\u001b[0m\n\u001b[1;32m      2\u001b[0m \u001b[0;31m# os.mkdir('abc')\u001b[0m\u001b[0;34m\u001b[0m\u001b[0;34m\u001b[0m\u001b[0;34m\u001b[0m\u001b[0m\n\u001b[0;32m----> 3\u001b[0;31m \u001b[0mprint\u001b[0m\u001b[0;34m(\u001b[0m\u001b[0;34m't'\u001b[0m\u001b[0;34m.\u001b[0m\u001b[0mjoin\u001b[0m\u001b[0;34m(\u001b[0m\u001b[0;34m'123'\u001b[0m\u001b[0;34m,\u001b[0m\u001b[0;34m'456'\u001b[0m\u001b[0;34m)\u001b[0m\u001b[0;34m)\u001b[0m\u001b[0;34m\u001b[0m\u001b[0;34m\u001b[0m\u001b[0m\n\u001b[0m",
      "\u001b[0;31mTypeError\u001b[0m: join() takes exactly one argument (2 given)"
     ]
    }
   ],
   "source": []
  },
  {
   "cell_type": "code",
   "execution_count": null,
   "metadata": {},
   "outputs": [],
   "source": []
  }
 ],
 "metadata": {
  "colab": {
   "collapsed_sections": [],
   "name": "Collect_Data.ipynb",
   "provenance": []
  },
  "kernelspec": {
   "display_name": "Python 3",
   "language": "python",
   "name": "python3"
  },
  "language_info": {
   "codemirror_mode": {
    "name": "ipython",
    "version": 3
   },
   "file_extension": ".py",
   "mimetype": "text/x-python",
   "name": "python",
   "nbconvert_exporter": "python",
   "pygments_lexer": "ipython3",
   "version": "3.6.9"
  }
 },
 "nbformat": 4,
 "nbformat_minor": 1
}
